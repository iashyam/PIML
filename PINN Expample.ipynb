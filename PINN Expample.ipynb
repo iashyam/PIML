{
 "cells": [
  {
   "cell_type": "code",
   "execution_count": 1,
   "id": "35b494d8-2e21-4b7d-b110-83374606803f",
   "metadata": {},
   "outputs": [],
   "source": [
    "from pinn import *"
   ]
  },
  {
   "cell_type": "code",
   "execution_count": null,
   "id": "ebe6e5ed-f5be-42b2-b629-a0dc2959797f",
   "metadata": {},
   "outputs": [],
   "source": []
  },
  {
   "cell_type": "code",
   "execution_count": null,
   "id": "f7c89e4f-24db-46be-b3b8-da612cbab92c",
   "metadata": {},
   "outputs": [],
   "source": []
  }
 ],
 "metadata": {
  "kernelspec": {
   "display_name": "Python 3 (ipykernel)",
   "language": "python",
   "name": "python3"
  },
  "language_info": {
   "codemirror_mode": {
    "name": "ipython",
    "version": 3
   },
   "file_extension": ".py",
   "mimetype": "text/x-python",
   "name": "python",
   "nbconvert_exporter": "python",
   "pygments_lexer": "ipython3",
   "version": "3.13.5"
  }
 },
 "nbformat": 4,
 "nbformat_minor": 5
}
